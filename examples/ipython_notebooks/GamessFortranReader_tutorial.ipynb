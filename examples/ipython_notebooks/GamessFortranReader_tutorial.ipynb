{
 "cells": [
  {
   "cell_type": "markdown",
   "metadata": {},
   "source": [
    "# GamessFortranReader tutorial\n",
    "\n",
    "`GamessFortranReader` is a class containing methods for reading Gamess sequential, unformatted fortran files containig\n",
    "\n",
    "* two-electron integerals over AO's (\\$JOB.F08)\n",
    "* two-electron integrals over MO's (\\$JOB.F09)\n",
    "* two-particle density matrix (\\$JOB.F15)"
   ]
  },
  {
   "cell_type": "markdown",
   "metadata": {},
   "source": [
    "# IMPORTANT NOTE\n",
    "\n",
    "As with all python iterable objects the counting starts from 0 not from 1 as in fortran. This means for example that the first element of the two electron integral supermatix **W** will be $<00|00>$ in python and not $<11|11>$ as in fortran. This of course means that the orbitals will be also indexed from 0 and all the loop over the elements of matrices and vectors should start from 0."
   ]
  },
  {
   "cell_type": "code",
   "execution_count": null,
   "metadata": {
    "collapsed": false,
    "jupyter": {
     "outputs_hidden": false
    }
   },
   "outputs": [],
   "source": [
    "import chemtools"
   ]
  },
  {
   "cell_type": "code",
   "execution_count": null,
   "metadata": {
    "collapsed": false,
    "jupyter": {
     "outputs_hidden": false
    }
   },
   "outputs": [],
   "source": [
    "from chemtools.calculators.gamessreader import GamessFortranReader, print_twoe, ijkl, factor\n",
    "from chemtools.calculators.gamessus import GamessUS\n",
    "import numpy as np\n",
    "import os"
   ]
  },
  {
   "cell_type": "markdown",
   "metadata": {},
   "source": [
    "First we need to generate some files to work on. Below I'm using my own gamess installation with custom `rungamessave` script which compies the .F?? (with integrals etc.) files to my current directory after the job is finished. "
   ]
  },
  {
   "cell_type": "code",
   "execution_count": null,
   "metadata": {
    "collapsed": false,
    "jupyter": {
     "outputs_hidden": false
    }
   },
   "outputs": [],
   "source": [
    "gamess = Gamess(executable=\"/home/lmentel/Programs/gamess-us-dec2014/rungmssave\",\n",
    "                version=\"00\",\n",
    "                runopts=None,\n",
    "                scratch=\"/home/lmentel/scratch\")"
   ]
  },
  {
   "cell_type": "markdown",
   "metadata": {},
   "source": [
    "As an example I will use H$_2$ from earlier. Here's the input"
   ]
  },
  {
   "cell_type": "code",
   "execution_count": null,
   "metadata": {
    "collapsed": false,
    "jupyter": {
     "outputs_hidden": false
    }
   },
   "outputs": [],
   "source": [
    "inpstr = \"\"\" $CONTRL scftyp=rhf runtyp=energy maxit=30 mult=1 ispher=1\n",
    "     itol=30 icut=30 units=bohr cityp=guga qmttol=1.0e-8 $END\n",
    " $SYSTEM timlim=525600 mwords=100 $END\n",
    " $SCF dirscf=.false. $END\n",
    " $CIINP\n",
    "    nrnfg(6)=1\n",
    " $END\n",
    " $CIDRT iexcit=2 nfzc=0 ndoc=1 nval=27 group=d2h stsym=ag\n",
    "        mxnint=14307305 $END\n",
    " $GUGDIA prttol=1.0e-6 cvgtol=1.0e-10 $END\n",
    " $DATA\n",
    "H2 cc-pVTZ\n",
    "dnh 2\n",
    "\n",
    "H    1.00       0.000000       0.000000       0.700000\n",
    "S   3\n",
    "  1     33.8700000              0.0060680        \n",
    "  2      5.0950000              0.0453080        \n",
    "  3      1.1590000              0.2028220        \n",
    "S   1\n",
    "  1      0.3258000              1.0000000        \n",
    "S   1\n",
    "  1      0.1027000              1.0000000        \n",
    "P   1\n",
    "  1      1.4070000              1.0000000        \n",
    "P   1\n",
    "  1      0.3880000              1.0000000        \n",
    "D   1\n",
    "  1      1.0570000              1.0000000        \n",
    "\n",
    " $END\n",
    "\"\"\""
   ]
  },
  {
   "cell_type": "markdown",
   "metadata": {},
   "source": [
    "I'll create a `temp` folder as my workdir for the calculation"
   ]
  },
  {
   "cell_type": "code",
   "execution_count": null,
   "metadata": {
    "collapsed": false,
    "jupyter": {
     "outputs_hidden": false
    }
   },
   "outputs": [],
   "source": [
    "os.mkdir('temp')\n",
    "os.chdir('temp')\n",
    "os.getcwd()"
   ]
  },
  {
   "cell_type": "markdown",
   "metadata": {},
   "source": [
    "Now I can write the input file"
   ]
  },
  {
   "cell_type": "code",
   "execution_count": null,
   "metadata": {
    "collapsed": false,
    "jupyter": {
     "outputs_hidden": false
    }
   },
   "outputs": [],
   "source": [
    "inpfile = \"h2_eq_pvtz_fci.inp\"\n",
    "with open(inpfile, 'w') as inp:\n",
    "    inp.write(inpstr)"
   ]
  },
  {
   "cell_type": "markdown",
   "metadata": {},
   "source": [
    "and run the calculation"
   ]
  },
  {
   "cell_type": "code",
   "execution_count": null,
   "metadata": {
    "collapsed": false,
    "jupyter": {
     "outputs_hidden": false
    }
   },
   "outputs": [],
   "source": [
    "logfile = gamess.run(inpfile)"
   ]
  },
  {
   "cell_type": "code",
   "execution_count": null,
   "metadata": {
    "collapsed": false,
    "jupyter": {
     "outputs_hidden": false
    }
   },
   "outputs": [],
   "source": [
    "!ls"
   ]
  },
  {
   "cell_type": "markdown",
   "metadata": {},
   "source": [
    "All the important files are there. Now I can create the `GamessFortranReader` giving it the `logfile` (name out the output) as an argument since it need to figure out how many AO's and MO's there are before reading the integral files."
   ]
  },
  {
   "cell_type": "markdown",
   "metadata": {
    "tags": []
   },
   "source": [
    "## reading the two-electron integrals in AO"
   ]
  },
  {
   "cell_type": "code",
   "execution_count": null,
   "metadata": {
    "collapsed": false,
    "jupyter": {
     "outputs_hidden": false
    }
   },
   "outputs": [],
   "source": [
    "gfr = GamessFortranReader(logfile)"
   ]
  },
  {
   "cell_type": "code",
   "execution_count": null,
   "metadata": {
    "collapsed": false,
    "jupyter": {
     "outputs_hidden": false
    }
   },
   "outputs": [],
   "source": [
    "twoeAO = gfr.read_twoeao()\n",
    "twoeAO"
   ]
  },
  {
   "cell_type": "code",
   "execution_count": null,
   "metadata": {
    "collapsed": false,
    "jupyter": {
     "outputs_hidden": false
    },
    "scrolled": true
   },
   "outputs": [],
   "source": [
    "nao = gfr.gp.get_number_of_aos()\n",
    "print_twoe(twoeAO, nao)"
   ]
  },
  {
   "cell_type": "markdown",
   "metadata": {},
   "source": [
    "## reading the two-electron integrals in MO"
   ]
  },
  {
   "cell_type": "code",
   "execution_count": null,
   "metadata": {
    "collapsed": false,
    "jupyter": {
     "outputs_hidden": false
    }
   },
   "outputs": [],
   "source": [
    "twoeMO = gfr.read_twoemo()\n",
    "twoeMO"
   ]
  },
  {
   "cell_type": "code",
   "execution_count": null,
   "metadata": {
    "collapsed": false,
    "jupyter": {
     "outputs_hidden": false
    },
    "scrolled": true
   },
   "outputs": [],
   "source": [
    "nmo = gfr.gp.get_number_of_mos()\n",
    "print_twoe(twoeMO, nmo)"
   ]
  },
  {
   "cell_type": "markdown",
   "metadata": {},
   "source": [
    "## reading the two particle density matrix"
   ]
  },
  {
   "cell_type": "code",
   "execution_count": null,
   "metadata": {
    "collapsed": false,
    "jupyter": {
     "outputs_hidden": false
    }
   },
   "outputs": [],
   "source": [
    "twoRDM = gfr.read_rdm2()\n",
    "twoRDM"
   ]
  },
  {
   "cell_type": "code",
   "execution_count": null,
   "metadata": {
    "collapsed": false,
    "jupyter": {
     "outputs_hidden": false
    },
    "scrolled": true
   },
   "outputs": [],
   "source": [
    "print_twoe(twoRDM, nmo)"
   ]
  },
  {
   "cell_type": "markdown",
   "metadata": {},
   "source": [
    "## Calculate the two-electron energy from the two-electron integrals and 2RDM"
   ]
  },
  {
   "cell_type": "code",
   "execution_count": null,
   "metadata": {
    "collapsed": false,
    "jupyter": {
     "outputs_hidden": false
    }
   },
   "outputs": [],
   "source": [
    "energy = 0.0\n",
    "\n",
    "# loop over elements and sum them\n",
    "ij = 0\n",
    "for i in xrange(nmo):\n",
    "    for j in xrange(i+1):\n",
    "        ij += 1\n",
    "        kl = 0\n",
    "        for k in xrange(nmo):\n",
    "            for l in xrange(k+1):\n",
    "                kl += 1\n",
    "                if ij >= kl:\n",
    "                    energy += factor(i,j,k,l)*twoeMO[ijkl(i,j,k,l)]*twoRDM[ijkl(i,j,k,l)]\n",
    "                    #print(i,j,k,l,factor(i,j,k,l), twoeint[ijkl(i,j,k,l)], twordm[ijkl(i,j,k,l)])\n",
    "\n",
    "print(\"Two-electron energy: \", 0.5*energy)"
   ]
  },
  {
   "cell_type": "code",
   "execution_count": null,
   "metadata": {
    "collapsed": false,
    "jupyter": {
     "outputs_hidden": false
    }
   },
   "outputs": [],
   "source": [
    "gfr.gp.get_energy_components('ci')"
   ]
  },
  {
   "cell_type": "markdown",
   "metadata": {},
   "source": [
    "As you can see the energy obtained by contracting twoMO with twoRDM ('Two-electron energy: ', 0.58866020149518394) is the same as the one parsed from the logfile ('ELECTRON-ELECTRON POTENTIAL ENERGY': 0.5886602014,)."
   ]
  },
  {
   "cell_type": "code",
   "execution_count": null,
   "metadata": {},
   "outputs": [],
   "source": []
  }
 ],
 "metadata": {
  "kernelspec": {
   "display_name": "Python 3",
   "language": "python",
   "name": "python3"
  },
  "language_info": {
   "codemirror_mode": {
    "name": "ipython",
    "version": 3
   },
   "file_extension": ".py",
   "mimetype": "text/x-python",
   "name": "python",
   "nbconvert_exporter": "python",
   "pygments_lexer": "ipython3",
   "version": "3.8.10"
  }
 },
 "nbformat": 4,
 "nbformat_minor": 4
}
